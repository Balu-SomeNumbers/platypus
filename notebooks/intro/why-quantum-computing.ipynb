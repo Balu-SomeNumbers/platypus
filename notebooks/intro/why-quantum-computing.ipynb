{
 "cells": [
  {
   "cell_type": "markdown",
   "metadata": {},
   "source": [
    "# Why quantum computing?"
   ]
  },
  {
   "cell_type": "markdown",
   "metadata": {},
   "source": [
    "## What is a computer?\n",
    "\n",
    "Seeing as you’ve managed to access this webpage, you should already know what a computer is. Today, computers take many forms: From laptops and phones to the systems controlling traffic lights. It seems computers can do anything! These systems can be very complex and specialised, but they all have one thing in common: A computer carries out a set of instructions on some input information to give us some new (output) information.\n",
    "\n",
    "The instructions we give computers need to be very specific and unambiguous. We call these sets of instructions _algorithms,_ and a lot of the research into computers is into the behaviour of different algorithms. In this course, we will only consider computers in their simplest form; no keyboards, mice, or screens- just information and algorithms.\n",
    "\n",
    "![An artists rendering of basically all computers](images/why-qc/basically_all_computers.png)"
   ]
  },
  {
   "cell_type": "markdown",
   "metadata": {
    "formulas": {
     "T": {
      "meaning": "This is the average time our search algorithm takes to run.",
      "type": "Locally defined variable"
     },
     "exp": {
      "meaning": "This is the number of digits in our secret number. Because this is a superscript, this means we are doing 10 to the power of d.",
      "type": "Locally defined variable"
     },
     "prop_to": {
      "meaning": "'Proportional to': Everything to the left of this symbol is <a href='https://en.wikipedia.org/wiki/Proportionality_(mathematics)'>proportional to</a> the things on the right.",
      "type": "Universal notation"
     }
    },
    "gloss": {
     "resources": {
      "text": "A resource is anything the algorithm needs to run. In computer science, this usually means either the time needed by the algorithm, or the space (e.g. computer memory).",
      "title": "Resources"
     }
    }
   },
   "source": [
    "## Classifying computer algorithms\n",
    "\n",
    "To understand the role of quantum computers amongst modern traditional computers, we first need to learn how we measure the performance of different algorithms.\n",
    "\n",
    "In computer science, we classify algorithms on how the [resources](gloss:resources) they use grow with the size of the input. We call this the algorithm’s _complexity_. For example, an algorithm that decides if a number is even only needs to look at the last digit in that number. In this case, the ‘input’ is a number, and the output is either ‘Even’ or ‘Odd’. We call this a _constant time_ algorithm, because the time the algorithm takes to complete doesn't depend on the size of the input number. It might take different computers different amounts of time to get this result, but that’s due to other factors and not the length of the input.\n",
    "\n",
    "![The steps of an algorithm that works out if a number is even or odd](images/why-qc/odd-even-algo.svg)\n",
    "\n",
    "Let’s look at a different example. This time, the input is two numbers of equal length, and the problem is to add them together. In this case the output will be a new number. When adding two multi-digit numbers, a common algorithm you probably learnt at school starts with the rightmost digit from each number and adds them together. It then moves one digit to the left (carrying over a ‘1’ if the result was greater than 9) and repeats the process. The computer repeats this until there are no more digits to add, and the algorithm ends.\n",
    "\n",
    "![Animation showing the steps of an addition algorithm](images/why-qc/adding-algo.svg)\n",
    "\n",
    "<!-- ::: q-block.exercise -->\n",
    "\n",
    "### How complex is addition?\n",
    "\n",
    "<!-- ::: q-quiz(goal=\"intro-why-qc-0\") -->\n",
    "\n",
    "<!-- ::: .question -->\n",
    "\n",
    "The time this addition algorithm takes to complete...\n",
    "\n",
    "<!-- ::: -->\n",
    "\n",
    "<!-- ::: .option(correct) -->\n",
    "\n",
    "1. ...grows linearly (proportionally) with the length of the input number (linear time).\n",
    "\n",
    "<!-- ::: -->\n",
    "\n",
    "<!-- ::: .option -->\n",
    "\n",
    "2. ...is not affected by the length of the input number (constant time)\n",
    "\n",
    "<!-- ::: -->\n",
    "\n",
    "<!-- ::: .option -->\n",
    "\n",
    "3. ...grows with the square of the length of the input number (quadratic time) \n",
    "\n",
    "<!-- ::: -->\n",
    "\n",
    "<!-- ::: -->\n",
    "\n",
    "<!-- ::: -->\n",
    "\n",
    "Again, different computers will execute this algorithm at different speeds; a laptop can perform addition millions of times faster than a human can. But whether you can do a million operations a second or just one, the rate of growth will be the same.\n",
    "\n",
    "![graph of constant and linear running times vs input sizes for different running times](images/why-qc/graph-linear-constant.svg)\n",
    "\n",
    "Here is one final example that is very particularly interesting to us. Let’s say I have a secret number (such as a PIN), and the problem is to guess it. In this case, the size of the problem is the length of the number.  \n",
    "\n",
    "Let’s say the only way we can check if our answer is correct is by punching it into a keypad. Since we have no information about what that number might be, the best algorithm to find this secret number uses a ‘brute-force’ method, which means it does nothing clever and simply tries every possible number.\n",
    "\n",
    "How long would this take? Now, in theory we could get lucky and guess the answer in one go, but this is very unlikely. On average, we’d have to try around half the possible inputs, so the running time of our algorithm is proportional to the number of possible combinations. The question now becomes: How does the number of possible combinations grow with the length of the secret number?\n",
    "\n",
    "![Animation showing the steps of a brute-force search algorithm](images/why-qc/search-algo.svg)\n",
    "\n",
    "Each digit we add to our secret number multiplies the number of possible combinations by 10. E.g. a secret number with 1 digit has 10 possible values (0, 1, 2, 3, 4, 5, 6, 7, 8 & 9), and a secret number with 2 digits has 100 possible values.  Assuming the time taken to guess each digit takes the same amount of time (regardless of the length), we can represent this mathematically like so:\n",
    "\n",
    "$$ \\cssId{T}{T} \\cssId{prop_to}{\\propto} 10^\\cssId{exp}{d}$$\n",
    "\n",
    "You will notice the number of digits (d) is the exponent in this equation, and as such we say this is an _exponential time_ algorithm, and that the running time grows exponentially with the length of the input.\n",
    "\n",
    "![graph of constant, linear and exponential running times vs input sizes for different running times](images/why-qc/graph-all.svg)"
   ]
  },
  {
   "cell_type": "markdown",
   "metadata": {
    "gloss": {
     "intractable": {
      "text": "An intractable problem is one which can be solved in theory, but requires too many resources in practice.",
      "title": "Intractable"
     }
    }
   },
   "source": [
    "## Why do we measure algorithms like this?\n",
    "\n",
    "Different computers have different strengths; certain operations might be faster on one computer than another. By studying growth vs input size, we can ignore device-specific details and actually measure the _algorithm_, instead of the specific combination of algorithm and computer. Importantly, knowing how an algorithm scales with input size also tells us whether the algorithm will grow manageably or not.\n",
    "\n",
    "Let’s think about the linear-time addition algorithm we saw above. If we could add two 10-digit numbers in one second, due to the linear rate of growth, we should be able to add two 20-digit numbers in two seconds. Each extra 10 digits should add roughly one more second to our computation time.\n",
    "\n",
    "To contrast, imagine you could find a 10-digit PIN in 1 second using the exponential-time search algorithm above. This means your computer is fast enough to try \\~5,000,000,000 combinations per second. We would expect this computer using this algorithm to take roughly 5,000,000,000 seconds (\\~150 years) to find a 20-digit PIN. Adding another 10 digits increases this to around 150,000,000,000 years (\\~120x the age of the universe). Exponential-time algorithms with even a modestly sized input (in this case \\~30 digits) can become not just difficult, but literally impossible to carry out.\n",
    "\n",
    "While this PIN-finding problem is an artificial example we intended to be as simple as possible, there are many real problems in computer science for which we only have inefficient algorithms. Despite the impressive speed of today’s computers, these [intractable](gloss:intractable) problems can be too difficult for even the largest supercomputers.\n",
    "\n",
    "But if we can find algorithms that grow more efficiently, these intractable problems may suddenly become manageable, even with relatively slow or unreliable computers. This is where quantum computing comes in.\n",
    "\n",
    "## How can quantum computing help?\n",
    "\n",
    "So far, we have thought of algorithms in a very abstract way, but the computers that execute these algorithms must exist in the real world. Whether these computers are high-powered microchips, or humans with pens and paper, all computers are ultimately governed by the laws of physics, and the operations they can perform limit the algorithms we can create.\n",
    "\n",
    "Physics is an attempt to work out the set of rules everything in the universe follows. Around the early 20th century, through delicate experiments in laboratories, physicists saw strange behaviours which their current physics could not explain. This meant the rules weren’t quite accurate, so they developed the more complete ‘quantum’ physics, which describes this behaviour very well.\n",
    "\n",
    "Physicists created quantum physics to explain behaviour they'd never seen before, and computer scientists found they could (in theory) exploit this newly discovered behaviour to create more efficient algorithms. As a result, there are certain problems that we believe are intractable for conventional computers, but are manageable for a ‘quantum’ computer that can exploit this behaviour. One such problem is _integer factorisation_.\n",
    "\n",
    "\n",
    "Say we have an integer we'll call '$x$'. A factorizing algorithm finds the integers $p$ and $q$ such that $p×q = x$. This is sometimes easy; you can tell at a glance that $2000 = 2 × 1000$, but if $x$ is the product of two large prime numbers, this problem becomes very difficult. When we talk about integer factorisation, we’re going to assume the most difficult (worst-case) scenario. In the code cell below, we’re assigning a 250-digit number to the variable <code>x</code>:"
   ]
  },
  {
   "cell_type": "code",
   "execution_count": 1,
   "metadata": {},
   "outputs": [],
   "source": [
    "# pylint: disable=line-too-long, invalid-name\n",
    "x = 2140324650240744961264423072839333563008614715144755017797754920881418023447140136643345519095804679610992851872470914587687396261921557363047454770520805119056493106687691590019759405693457452230589325976697471681738069364894699871578494975937497937"
   ]
  },
  {
   "cell_type": "markdown",
   "metadata": {
    "gloss": {
     "coreyears": {
      "text": "Conventional computer chips are often made from processors called <a href=\"https://en.wikipedia.org/wiki/Multi-core_processor\">\"cores\"</a>. A <i>core-year</i> is the equivalent of using one of these cores continuously for a year. For reference, a modern laptops have around 2-4 cores. The meaning of this number depends on how powerful the core is, but this should give you a rough idea of the computing power involved.",
      "title": "Core Year"
     }
    }
   },
   "source": [
    "In 2020, researchers factorised this number using a classical supercomputer and ~2700 [core-years](gloss:coreyears) of processing power. This was a large effort, and record breaking at the time of writing. We can verify their results in the code cell below (fortunately, we do have efficient algorithms for multiplication!):"
   ]
  },
  {
   "cell_type": "code",
   "execution_count": 2,
   "metadata": {},
   "outputs": [
    {
     "data": {
      "text/plain": [
       "True"
      ]
     },
     "execution_count": 2,
     "metadata": {},
     "output_type": "execute_result"
    }
   ],
   "source": [
    "p = 64135289477071580278790190170577389084825014742943447208116859632024532344630238623598752668347708737661925585694639798853367\n",
    "q = 33372027594978156556226010605355114227940760344767554666784520987023841729210037080257448673296881877565718986258036932062711\n",
    "\n",
    "p*q == x  # Evaluates to 'True'"
   ]
  },
  {
   "cell_type": "markdown",
   "metadata": {
    "gloss": {
     "RSA": {
      "text": "RSA numbers are numbers taken from the RSA factoring challenge. These numbers are intentionally chosen to be difficult to factor.<p>'RSA' are the initials of three of the people that invented the protocol that uses these large numbers to encrypt information.",
      "title": "RSA Number"
     }
    }
   },
   "source": [
    "The output shown is the value of the last line of the cell. In this case we can see that <code>p*q == x</code> evaluates to <code>True</code>. Although not mathematically proven, we're pretty sure there’s no efficient algorithm for factoring such numbers on traditional computers. In fact, much of the internet’s encryption relies on the assumption that this problem is intractable, and that factoring a 617-digit [RSA](gloss:RSA) number is impossible. In contrast, we know of efficient factoring algorithms for quantum computers that, once we have big enough quantum computers, we estimate could factorise these numbers in under a day."
   ]
  },
  {
   "cell_type": "markdown",
   "metadata": {
    "gloss": {
     "noise": {
      "text": "Noise is useless information that's difficult to distinguish from useful information. For example, it's hard to hear someone talking to you if there are lots of other people talking loudly nearby.",
      "title": "Noise"
     },
     "qiskit": {
      "text": "Qiskit is a software development kit for working with quantum computers.",
      "title": "Qiskit"
     },
     "qubits": {
      "text": "A 'qubit' is a 'quantum bit'. We will study these later in this course.",
      "title": "Qubit"
     },
     "transistor": {
      "text": "A transistor is an electronic device. They can be used to switch electric currents on and off, and can be used to build a computer processor.",
      "title": "Transistor"
     }
    }
   },
   "source": [
    "## Where are we now?\n",
    "\n",
    "We now know that quantum computers can carry out more efficient algorithms, but the quantum computers we have today are too small and unstable to give an advantage over traditional computers. \n",
    "\n",
    "At a very simple level, there are two factors that limit the size of problems our quantum computers can solve. The first is the amount of data they can store and work on, which we usually measure in [_qubits_](gloss:qubits). If we don’t have enough qubits, we simply can’t store and operate on problems above a certain size. The second is the error rate of our quantum computer; since we only see quantum behaviour in delicate laboratory experiments, creating quantum computers is a delicate process. The quantum computers we have right now are noisy, which means they often get things wrong and introduce ‘[noise](gloss:noise)’ into our results. Too much noise and our results will be nonsense!\n",
    "\n",
    "At the moment, the quantum computers we have are experimental. They're limited by qubit counts and error rates, so the biggest problems they can currently solve are still easily manageable for conventional computers. \n",
    "\n",
    "At some point in the future, this will change. We will reach ‘quantum advantage’, in which it will actually make economic sense to solve a problem using a quantum computer over a conventional computer. How do we know? _Because we measure algorithms by their rate of growth!_ We know that, as long as quantum computers keep developing steadily, they will eventually take over classical computers.\n",
    "\n",
    "![comparison of (projected) classical vs quantum factoring abilities over time](images/why-qc/q-vs-c.svg)\n",
    "\n",
    "The estimate for factoring a 617-digit RSA number in under a day assumed ~20 million noisy qubits. At the time of writing, IBM currently has a 65-qubit quantum computer, and is aiming to create a system with over 1000 qubits by 2023. There are other algorithms that we believe will give us a quantum advantage long before this milestone, but it may still seem we are a long way off.\n",
    "\n",
    "Using the code below, you can create a simple quantum program and submit it to IBM Quantum to run on a real quantum computer. IBM Quantum will run this program for us 4000 times. Our program is probabilistic, and the results should be `000` half the time, and `111` the rest of the time. As you can see, these are not the only results, we have a small probability of measuring other outputs due to noise."
   ]
  },
  {
   "cell_type": "code",
   "execution_count": 1,
   "metadata": {
    "tags": [
     "uses-hardware"
    ]
   },
   "outputs": [
    {
     "name": "stdout",
     "output_type": "stream",
     "text": [
      "Running on ibm_geneva\n",
      "Job Status: job has successfully run\n"
     ]
    },
    {
     "data": {
      "image/svg+xml": [
       "<?xml version=\"1.0\" encoding=\"UTF-8\"?><!DOCTYPE svg  PUBLIC '-//W3C//DTD SVG 1.1//EN'  'http://www.w3.org/Graphics/SVG/1.1/DTD/svg11.dtd'><svg width=\"460.72pt\" height=\"322.95pt\" version=\"1.1\" viewBox=\"0 0 460.72 322.95\" xmlns=\"http://www.w3.org/2000/svg\" xmlns:xlink=\"http://www.w3.org/1999/xlink\"><defs><style type=\"text/css\">*{stroke-linejoin: round; stroke-linecap: butt}</style></defs><path d=\"m0 322.95h460.72v-322.95h-460.72v322.95z\" fill=\"none\"/><path d=\"m62.921 279h390.6v-271.8h-390.6z\" fill=\"#ffffff\"/><defs><path id=\"mff37cc3539\" d=\"m0 0v3.5\" stroke=\"#343a3f\" stroke-width=\".8\"/></defs><use x=\"92.512159\" y=\"279\" fill=\"#343a3f\" stroke=\"#343a3f\" stroke-width=\".8\" xlink:href=\"#mff37cc3539\"/><g transform=\"translate(91.572 314.75) rotate(-70) scale(.14 -.14)\" fill=\"#343a3f\"><defs><path id=\"DejaVuSans-30\" transform=\"scale(.015625)\" d=\"m2034 4250q-487 0-733-480-245-479-245-1442 0-959 245-1439 246-480 733-480 491 0 736 480 246 480 246 1439 0 963-246 1442-245 480-736 480zm0 500q785 0 1199-621 414-620 414-1801 0-1178-414-1799-414-620-1199-620-784 0-1198 620-414 621-414 1799 0 1181 414 1801 414 621 1198 621z\"/></defs><use xlink:href=\"#DejaVuSans-30\"/><use x=\"63.623047\" xlink:href=\"#DejaVuSans-30\"/><use x=\"127.246094\" xlink:href=\"#DejaVuSans-30\"/></g><use x=\"139.857614\" y=\"279\" fill=\"#343a3f\" stroke=\"#343a3f\" stroke-width=\".8\" xlink:href=\"#mff37cc3539\"/><g transform=\"translate(138.92 314.75) rotate(-70) scale(.14 -.14)\" fill=\"#343a3f\"><defs><path id=\"DejaVuSans-31\" transform=\"scale(.015625)\" d=\"m794 531h1031v3560l-1122-225v575l1116 225h631v-4135h1031v-531h-2687v531z\"/></defs><use xlink:href=\"#DejaVuSans-30\"/><use x=\"63.623047\" xlink:href=\"#DejaVuSans-30\"/><use x=\"127.246094\" xlink:href=\"#DejaVuSans-31\"/></g><use x=\"187.203068\" y=\"279\" fill=\"#343a3f\" stroke=\"#343a3f\" stroke-width=\".8\" xlink:href=\"#mff37cc3539\"/><g transform=\"translate(186.26 314.75) rotate(-70) scale(.14 -.14)\" fill=\"#343a3f\"><use xlink:href=\"#DejaVuSans-30\"/><use x=\"63.623047\" xlink:href=\"#DejaVuSans-31\"/><use x=\"127.246094\" xlink:href=\"#DejaVuSans-30\"/></g><use x=\"234.548523\" y=\"279\" fill=\"#343a3f\" stroke=\"#343a3f\" stroke-width=\".8\" xlink:href=\"#mff37cc3539\"/><g transform=\"translate(233.61 314.75) rotate(-70) scale(.14 -.14)\" fill=\"#343a3f\"><use xlink:href=\"#DejaVuSans-30\"/><use x=\"63.623047\" xlink:href=\"#DejaVuSans-31\"/><use x=\"127.246094\" xlink:href=\"#DejaVuSans-31\"/></g><use x=\"281.893977\" y=\"279\" fill=\"#343a3f\" stroke=\"#343a3f\" stroke-width=\".8\" xlink:href=\"#mff37cc3539\"/><g transform=\"translate(280.95 314.75) rotate(-70) scale(.14 -.14)\" fill=\"#343a3f\"><use xlink:href=\"#DejaVuSans-31\"/><use x=\"63.623047\" xlink:href=\"#DejaVuSans-30\"/><use x=\"127.246094\" xlink:href=\"#DejaVuSans-30\"/></g><use x=\"329.239432\" y=\"279\" fill=\"#343a3f\" stroke=\"#343a3f\" stroke-width=\".8\" xlink:href=\"#mff37cc3539\"/><g transform=\"translate(328.3 314.75) rotate(-70) scale(.14 -.14)\" fill=\"#343a3f\"><use xlink:href=\"#DejaVuSans-31\"/><use x=\"63.623047\" xlink:href=\"#DejaVuSans-30\"/><use x=\"127.246094\" xlink:href=\"#DejaVuSans-31\"/></g><use x=\"376.584886\" y=\"279\" fill=\"#343a3f\" stroke=\"#343a3f\" stroke-width=\".8\" xlink:href=\"#mff37cc3539\"/><g transform=\"translate(375.65 314.75) rotate(-70) scale(.14 -.14)\" fill=\"#343a3f\"><use xlink:href=\"#DejaVuSans-31\"/><use x=\"63.623047\" xlink:href=\"#DejaVuSans-31\"/><use x=\"127.246094\" xlink:href=\"#DejaVuSans-30\"/></g><use x=\"423.930341\" y=\"279\" fill=\"#343a3f\" stroke=\"#343a3f\" stroke-width=\".8\" xlink:href=\"#mff37cc3539\"/><g transform=\"translate(422.99 314.75) rotate(-70) scale(.14 -.14)\" fill=\"#343a3f\"><use xlink:href=\"#DejaVuSans-31\"/><use x=\"63.623047\" xlink:href=\"#DejaVuSans-31\"/><use x=\"127.246094\" xlink:href=\"#DejaVuSans-31\"/></g><path d=\"m62.921 279h390.6\" clip-path=\"url(#p287b9538ba)\" fill=\"none\" stroke=\"#dde1e6\" stroke-dasharray=\"2.96,1.28\" stroke-width=\".8\"/><defs><path id=\"m13ab3288d2\" d=\"m0 0h-3.5\" stroke=\"#343a3f\" stroke-width=\".8\"/></defs><use x=\"62.92125\" y=\"279\" fill=\"#343a3f\" stroke=\"#343a3f\" stroke-width=\".8\" xlink:href=\"#m13ab3288d2\"/><g transform=\"translate(24.749 284.32) scale(.14 -.14)\" fill=\"#343a3f\"><defs><path id=\"DejaVuSans-2e\" transform=\"scale(.015625)\" d=\"m684 794h660v-794h-660v794z\"/></defs><use xlink:href=\"#DejaVuSans-30\"/><use x=\"63.623047\" xlink:href=\"#DejaVuSans-2e\"/><use x=\"95.410156\" xlink:href=\"#DejaVuSans-30\"/><use x=\"159.033203\" xlink:href=\"#DejaVuSans-30\"/></g><path d=\"m62.921 208.62h390.6\" clip-path=\"url(#p287b9538ba)\" fill=\"none\" stroke=\"#dde1e6\" stroke-dasharray=\"2.96,1.28\" stroke-width=\".8\"/><use x=\"62.92125\" y=\"208.621958\" fill=\"#343a3f\" stroke=\"#343a3f\" stroke-width=\".8\" xlink:href=\"#m13ab3288d2\"/><g transform=\"translate(24.749 213.94) scale(.14 -.14)\" fill=\"#343a3f\"><defs><path id=\"DejaVuSans-35\" transform=\"scale(.015625)\" d=\"m691 4666h2478v-532h-1900v-1143q137 47 274 70 138 23 276 23 781 0 1237-428 457-428 457-1159 0-753-469-1171-469-417-1322-417-294 0-599 50-304 50-629 150v635q281-153 581-228t634-75q541 0 856 284 316 284 316 772 0 487-316 771-315 285-856 285-253 0-505-56-251-56-513-175v2344z\"/></defs><use xlink:href=\"#DejaVuSans-30\"/><use x=\"63.623047\" xlink:href=\"#DejaVuSans-2e\"/><use x=\"95.410156\" xlink:href=\"#DejaVuSans-31\"/><use x=\"159.033203\" xlink:href=\"#DejaVuSans-35\"/></g><path d=\"m62.921 138.24h390.6\" clip-path=\"url(#p287b9538ba)\" fill=\"none\" stroke=\"#dde1e6\" stroke-dasharray=\"2.96,1.28\" stroke-width=\".8\"/><use x=\"62.92125\" y=\"138.243915\" fill=\"#343a3f\" stroke=\"#343a3f\" stroke-width=\".8\" xlink:href=\"#m13ab3288d2\"/><g transform=\"translate(24.749 143.56) scale(.14 -.14)\" fill=\"#343a3f\"><defs><path id=\"DejaVuSans-33\" transform=\"scale(.015625)\" d=\"m2597 2516q453-97 707-404 255-306 255-756 0-690-475-1069-475-378-1350-378-293 0-604 58t-642 174v609q262-153 574-231 313-78 654-78 593 0 904 234t311 681q0 413-289 645-289 233-804 233h-544v519h569q465 0 712 186t247 536q0 359-255 551-254 193-729 193-260 0-557-57-297-56-653-174v562q360 100 674 150t592 50q719 0 1137-327 419-326 419-882 0-388-222-655t-631-370z\"/></defs><use xlink:href=\"#DejaVuSans-30\"/><use x=\"63.623047\" xlink:href=\"#DejaVuSans-2e\"/><use x=\"95.410156\" xlink:href=\"#DejaVuSans-33\"/><use x=\"159.033203\" xlink:href=\"#DejaVuSans-30\"/></g><path d=\"m62.921 67.866h390.6\" clip-path=\"url(#p287b9538ba)\" fill=\"none\" stroke=\"#dde1e6\" stroke-dasharray=\"2.96,1.28\" stroke-width=\".8\"/><use x=\"62.92125\" y=\"67.865873\" fill=\"#343a3f\" stroke=\"#343a3f\" stroke-width=\".8\" xlink:href=\"#m13ab3288d2\"/><g transform=\"translate(24.749 73.185) scale(.14 -.14)\" fill=\"#343a3f\"><defs><path id=\"DejaVuSans-34\" transform=\"scale(.015625)\" d=\"m2419 4116-1594-2491h1594v2491zm-166 550h794v-3041h666v-525h-666v-1100h-628v1100h-2106v609l1940 2957z\"/></defs><use xlink:href=\"#DejaVuSans-30\"/><use x=\"63.623047\" xlink:href=\"#DejaVuSans-2e\"/><use x=\"95.410156\" xlink:href=\"#DejaVuSans-34\"/><use x=\"159.033203\" xlink:href=\"#DejaVuSans-35\"/></g><g transform=\"translate(17.838 185.86) rotate(-90) scale(.14 -.14)\" fill=\"#343a3f\"><defs><path id=\"DejaVuSans-50\" transform=\"scale(.015625)\" d=\"m1259 4147v-1753h794q441 0 681 228 241 228 241 650 0 419-241 647-240 228-681 228h-794zm-631 519h1425q785 0 1186-355 402-355 402-1039 0-691-402-1044-401-353-1186-353h-794v-1875h-631v4666z\"/><path id=\"DejaVuSans-72\" transform=\"scale(.015625)\" d=\"m2631 2963q-97 56-211 82-114 27-251 27-488 0-749-317t-261-911v-1844h-578v3500h578v-544q182 319 472 473 291 155 707 155 59 0 131-8 72-7 159-23l3-590z\"/><path id=\"DejaVuSans-6f\" transform=\"scale(.015625)\" d=\"m1959 3097q-462 0-731-361t-269-989 267-989q268-361 733-361 460 0 728 362 269 363 269 988 0 622-269 986-268 364-728 364zm0 487q750 0 1178-488 429-487 429-1349 0-859-429-1349-428-489-1178-489-753 0-1180 489-426 490-426 1349 0 862 426 1349 427 488 1180 488z\"/><path id=\"DejaVuSans-62\" transform=\"scale(.015625)\" d=\"m3116 1747q0 634-261 995t-717 361q-457 0-718-361t-261-995 261-995 718-361q456 0 717 361t261 995zm-1957 1222q182 312 458 463 277 152 661 152 638 0 1036-506 399-506 399-1331t-399-1332q-398-506-1036-506-384 0-661 152-276 152-458 464v-525h-578v4863h578v-1894z\"/><path id=\"DejaVuSans-61\" transform=\"scale(.015625)\" d=\"m2194 1759q-697 0-966-159t-269-544q0-306 202-486 202-179 548-179 479 0 768 339t289 901v128h-572zm1147 238v-1997h-575v531q-197-318-491-470t-719-152q-537 0-855 302-317 302-317 808 0 590 395 890 396 300 1180 300h807v57q0 397-261 614t-733 217q-300 0-585-72-284-72-546-216v532q315 122 612 182 297 61 578 61 760 0 1135-394 375-393 375-1193z\"/><path id=\"DejaVuSans-69\" transform=\"scale(.015625)\" d=\"m603 3500h575v-3500h-575v3500zm0 1363h575v-729h-575v729z\"/><path id=\"DejaVuSans-6c\" transform=\"scale(.015625)\" d=\"m603 4863h575v-4863h-575v4863z\"/><path id=\"DejaVuSans-74\" transform=\"scale(.015625)\" d=\"m1172 4494v-994h1184v-447h-1184v-1900q0-428 117-550t477-122h590v-481h-590q-666 0-919 248-253 249-253 905v1900h-422v447h422v994h578z\"/><path id=\"DejaVuSans-65\" transform=\"scale(.015625)\" d=\"m3597 1894v-281h-2644q38-594 358-905t892-311q331 0 642 81t618 244v-544q-310-131-635-200t-659-69q-838 0-1327 487-489 488-489 1320 0 859 464 1363 464 505 1252 505 706 0 1117-455 411-454 411-1235zm-575 169q-6 471-264 752-258 282-683 282-481 0-770-272t-333-766l2050 4z\"/><path id=\"DejaVuSans-73\" transform=\"scale(.015625)\" d=\"m2834 3397v-544q-243 125-506 187-262 63-544 63-428 0-642-131t-214-394q0-200 153-314t616-217l197-44q612-131 870-370t258-667q0-488-386-773-386-284-1061-284-281 0-586 55t-642 164v594q319-166 628-249 309-82 613-82 406 0 624 139 219 139 219 392 0 234-158 359-157 125-692 241l-200 47q-534 112-772 345-237 233-237 639 0 494 350 762 350 269 994 269 318 0 599-47 282-46 519-140z\"/></defs><use xlink:href=\"#DejaVuSans-50\"/><use x=\"58.552734\" xlink:href=\"#DejaVuSans-72\"/><use x=\"97.416016\" xlink:href=\"#DejaVuSans-6f\"/><use x=\"158.597656\" xlink:href=\"#DejaVuSans-62\"/><use x=\"222.074219\" xlink:href=\"#DejaVuSans-61\"/><use x=\"283.353516\" xlink:href=\"#DejaVuSans-62\"/><use x=\"346.830078\" xlink:href=\"#DejaVuSans-69\"/><use x=\"374.613281\" xlink:href=\"#DejaVuSans-6c\"/><use x=\"402.396484\" xlink:href=\"#DejaVuSans-69\"/><use x=\"430.179688\" xlink:href=\"#DejaVuSans-74\"/><use x=\"469.388672\" xlink:href=\"#DejaVuSans-69\"/><use x=\"497.171875\" xlink:href=\"#DejaVuSans-65\"/><use x=\"558.695312\" xlink:href=\"#DejaVuSans-73\"/></g><path d=\"m80.676 279h23.673v-226.5h-23.673z\" clip-path=\"url(#p287b9538ba)\" fill=\"#648fff\"/><path d=\"m128.02 279h23.673v-2.1113h-23.673z\" clip-path=\"url(#p287b9538ba)\" fill=\"#648fff\"/><path d=\"m175.37 279h23.673v-6.0994h-23.673z\" clip-path=\"url(#p287b9538ba)\" fill=\"#648fff\"/><path d=\"m222.71 279h23.673v-6.334h-23.673z\" clip-path=\"url(#p287b9538ba)\" fill=\"#648fff\"/><path d=\"m270.06 279h23.673v-6.2167h-23.673z\" clip-path=\"url(#p287b9538ba)\" fill=\"#648fff\"/><path d=\"m317.4 279h23.673v-8.0935h-23.673z\" clip-path=\"url(#p287b9538ba)\" fill=\"#648fff\"/><path d=\"m364.75 279h23.673v-3.5189h-23.673z\" clip-path=\"url(#p287b9538ba)\" fill=\"#648fff\"/><path d=\"m412.09 279h23.673v-210.31h-23.673z\" clip-path=\"url(#p287b9538ba)\" fill=\"#648fff\"/><path d=\"m62.921 279v-271.8\" fill=\"none\" stroke=\"#343a3f\" stroke-linecap=\"square\" stroke-width=\".8\"/><path d=\"m62.921 279h390.6\" fill=\"none\" stroke=\"#343a3f\" stroke-linecap=\"square\" stroke-width=\".8\"/><g transform=\"translate(78.198 39.095) scale(.1 -.1)\" fill=\"#343a3f\"><defs><path id=\"DejaVuSans-38\" transform=\"scale(.015625)\" d=\"m2034 2216q-450 0-708-241-257-241-257-662 0-422 257-663 258-241 708-241t709 242q260 243 260 662 0 421-258 662-257 241-711 241zm-631 268q-406 100-633 378-226 279-226 679 0 559 398 884 399 325 1092 325 697 0 1094-325t397-884q0-400-227-679-226-278-629-378 456-106 710-416 255-309 255-755 0-679-414-1042-414-362-1186-362-771 0-1186 362-414 363-414 1042 0 446 256 755 257 310 713 416zm-231 997q0-362 226-565 227-203 636-203 407 0 636 203 230 203 230 565 0 363-230 566-229 203-636 203-409 0-636-203-226-203-226-566z\"/></defs><use xlink:href=\"#DejaVuSans-30\"/><use x=\"63.623047\" xlink:href=\"#DejaVuSans-2e\"/><use x=\"95.410156\" xlink:href=\"#DejaVuSans-34\"/><use x=\"159.033203\" xlink:href=\"#DejaVuSans-38\"/><use x=\"222.65625\" xlink:href=\"#DejaVuSans-33\"/></g><g transform=\"translate(125.54 274.7) scale(.1 -.1)\" fill=\"#343a3f\"><use xlink:href=\"#DejaVuSans-30\"/><use x=\"63.623047\" xlink:href=\"#DejaVuSans-2e\"/><use x=\"95.410156\" xlink:href=\"#DejaVuSans-30\"/><use x=\"159.033203\" xlink:href=\"#DejaVuSans-30\"/><use x=\"222.65625\" xlink:href=\"#DejaVuSans-34\"/></g><g transform=\"translate(172.89 270.52) scale(.1 -.1)\" fill=\"#343a3f\"><use xlink:href=\"#DejaVuSans-30\"/><use x=\"63.623047\" xlink:href=\"#DejaVuSans-2e\"/><use x=\"95.410156\" xlink:href=\"#DejaVuSans-30\"/><use x=\"159.033203\" xlink:href=\"#DejaVuSans-31\"/><use x=\"222.65625\" xlink:href=\"#DejaVuSans-33\"/></g><g transform=\"translate(220.23 270.27) scale(.1 -.1)\" fill=\"#343a3f\"><use xlink:href=\"#DejaVuSans-30\"/><use x=\"63.623047\" xlink:href=\"#DejaVuSans-2e\"/><use x=\"95.410156\" xlink:href=\"#DejaVuSans-30\"/><use x=\"159.033203\" xlink:href=\"#DejaVuSans-31\"/><use x=\"222.65625\" xlink:href=\"#DejaVuSans-33\"/></g><g transform=\"translate(267.58 270.39) scale(.1 -.1)\" fill=\"#343a3f\"><use xlink:href=\"#DejaVuSans-30\"/><use x=\"63.623047\" xlink:href=\"#DejaVuSans-2e\"/><use x=\"95.410156\" xlink:href=\"#DejaVuSans-30\"/><use x=\"159.033203\" xlink:href=\"#DejaVuSans-31\"/><use x=\"222.65625\" xlink:href=\"#DejaVuSans-33\"/></g><g transform=\"translate(314.93 268.42) scale(.1 -.1)\" fill=\"#343a3f\"><defs><path id=\"DejaVuSans-37\" transform=\"scale(.015625)\" d=\"m525 4666h3e3v-269l-1694-4397h-659l1594 4134h-2241v532z\"/></defs><use xlink:href=\"#DejaVuSans-30\"/><use x=\"63.623047\" xlink:href=\"#DejaVuSans-2e\"/><use x=\"95.410156\" xlink:href=\"#DejaVuSans-30\"/><use x=\"159.033203\" xlink:href=\"#DejaVuSans-31\"/><use x=\"222.65625\" xlink:href=\"#DejaVuSans-37\"/></g><g transform=\"translate(362.27 273.23) scale(.1 -.1)\" fill=\"#343a3f\"><use xlink:href=\"#DejaVuSans-30\"/><use x=\"63.623047\" xlink:href=\"#DejaVuSans-2e\"/><use x=\"95.410156\" xlink:href=\"#DejaVuSans-30\"/><use x=\"159.033203\" xlink:href=\"#DejaVuSans-30\"/><use x=\"222.65625\" xlink:href=\"#DejaVuSans-37\"/></g><g transform=\"translate(409.62 56.092) scale(.1 -.1)\" fill=\"#343a3f\"><use xlink:href=\"#DejaVuSans-30\"/><use x=\"63.623047\" xlink:href=\"#DejaVuSans-2e\"/><use x=\"95.410156\" xlink:href=\"#DejaVuSans-34\"/><use x=\"159.033203\" xlink:href=\"#DejaVuSans-34\"/><use x=\"222.65625\" xlink:href=\"#DejaVuSans-38\"/></g><defs><clipPath id=\"p287b9538ba\"><rect x=\"62.921\" y=\"7.2\" width=\"390.6\" height=\"271.8\"/></clipPath></defs></svg>"
      ],
      "text/plain": [
       "<Figure size 504x360 with 1 Axes>"
      ]
     },
     "execution_count": 1,
     "metadata": {},
     "output_type": "execute_result"
    }
   ],
   "source": [
    "# 1. Create a simple quantum program called a 'quantum circuit'.\n",
    "from qiskit import QuantumCircuit\n",
    "qc = QuantumCircuit(3)\n",
    "qc.h(0)\n",
    "qc.cx(0, [1, 2])\n",
    "qc.measure_all()\n",
    "\n",
    "# 2. Ask IBM Quantum for its least busy device that isn't a simulator.\n",
    "#    If you're running this example locally, you need to load your\n",
    "#    account with your IBM Quantum API token\n",
    "# IBMQ.save_account(token=\"XYZ\")\n",
    "# IBMQ.load_account()\n",
    "from qiskit.providers.ibmq import IBMQ, least_busy\n",
    "provider = IBMQ.get_provider('ibm-q')\n",
    "device = least_busy(\n",
    "            provider.backends(\n",
    "                filters= lambda x: not x.configuration().simulator\n",
    "            )\n",
    "        )\n",
    "print(f'Running on {device.name()}')\n",
    "\n",
    "# 3. Convert the program to a form the device can run.\n",
    "#    This is known as 'transpiling'\n",
    "from qiskit import transpile\n",
    "transpiled_qc = transpile(qc, device)\n",
    "\n",
    "# 4. Send the program off to IBM Quantum to run on a real device\n",
    "#    and monitor its status.\n",
    "from qiskit.tools import job_monitor\n",
    "job = device.run(transpiled_qc)\n",
    "job_monitor(job)\n",
    "\n",
    "# 5. Plot the results as a histogram.\n",
    "from qiskit.visualization import plot_histogram\n",
    "plot_histogram(job.result().get_counts())"
   ]
  },
  {
   "cell_type": "markdown",
   "metadata": {
    "gloss": {
     "noise": {
      "text": "Noise is useless information that's difficult to distinguish from useful information. For example, it's hard to hear someone talking to you if there are lots of other people talking loudly nearby.",
      "title": "Noise"
     },
     "qiskit": {
      "text": "Qiskit is a software development kit for working with quantum computers.",
      "title": "Qiskit"
     },
     "qubits": {
      "text": "A 'qubit' is a 'quantum bit'. We will study these later in this course.",
      "title": "Qubit"
     },
     "transistor": {
      "text": "A transistor is an electronic device. They can be used to switch electric currents on and off, and can be used to build a computer processor.",
      "title": "Transistor"
     }
    }
   },
   "source": [
    "We should remind ourselves of where conventional computers came from. Below is a picture of the first [transistor](gloss:transistor), created in 1947. Transistors are the building blocks of modern computer processors.\n",
    "\n",
    "![comparison of (projected) classical vs quantum factoring abilities over time](images/why-qc/first-transistor.jpg)\n",
    "Image credit: Federal employee <a href=\"https://clintonwhitehouse4.archives.gov/Initiatives/Millennium/capsule/mayo.html\">Link</a>, <a href=\"https://commons.wikimedia.org/w/index.php?curid=554340\">Public Domain</a>.\n",
    "\n",
    "70 years later, our modern computer chips can contain billions of transistors.\n",
    "\n",
    "In the rest of this course, we will explore the quantum effects that allow us to create more efficient algorithms. By the end of this course you will be able to use the software package, [Qiskit](gloss:qiskit), to program a quantum computer to run one of these algorithms."
   ]
  },
  {
   "cell_type": "markdown",
   "metadata": {},
   "source": [
    "<!-- ::: q-block.exercise -->\n",
    "\n",
    "### Quick quiz\n",
    "\n",
    "<!-- ::: q-quiz(goal=\"intro-why-qc-1\") -->\n",
    "\n",
    "<!-- ::: .question -->\n",
    "\n",
    "Quantum computers will eventually...\n",
    "\n",
    "<!-- ::: -->\n",
    "\n",
    "<!-- ::: .option(correct) -->\n",
    "\n",
    "1. ...do computations that are too difficult for conventional computers.\n",
    "\n",
    "<!-- ::: -->\n",
    "\n",
    "<!-- ::: .option -->\n",
    "\n",
    "2. ...replace conventional computers. \n",
    "\n",
    "<!-- ::: -->\n",
    "\n",
    "<!-- ::: .option -->\n",
    "\n",
    "3. ...increase the speed of conventional computers.\n",
    "\n",
    "<!-- ::: -->\n",
    "\n",
    "<!-- ::: -->\n",
    "\n",
    "<!-- ::: -->"
   ]
  }
 ],
 "metadata": {
  "kernelspec": {
   "display_name": "Python 3",
   "language": "python",
   "name": "python3"
  },
  "language_info": {
   "codemirror_mode": {
    "name": "ipython",
    "version": 3
   },
   "file_extension": ".py",
   "mimetype": "text/x-python",
   "name": "python",
   "nbconvert_exporter": "python",
   "pygments_lexer": "ipython3",
   "version": "3.9"
  }
 },
 "nbformat": 4,
 "nbformat_minor": 4
}
